{
  "nbformat": 4,
  "nbformat_minor": 0,
  "metadata": {
    "colab": {
      "provenance": [],
      "toc_visible": true,
      "authorship_tag": "ABX9TyMpDDckwVH+6JS4w4Aaoj5w",
      "include_colab_link": true
    },
    "kernelspec": {
      "name": "python3",
      "display_name": "Python 3"
    },
    "language_info": {
      "name": "python"
    }
  },
  "cells": [
    {
      "cell_type": "markdown",
      "metadata": {
        "id": "view-in-github",
        "colab_type": "text"
      },
      "source": [
        "<a href=\"https://colab.research.google.com/github/ThaylonDSG/seguranca/blob/main/Introdu%C3%A7%C3%A3o_Python_atividade_1.ipynb\" target=\"_parent\"><img src=\"https://colab.research.google.com/assets/colab-badge.svg\" alt=\"Open In Colab\"/></a>"
      ]
    },
    {
      "cell_type": "code",
      "source": [
        "# @title Ola mundo\n",
        "#Exeplo 1\n",
        "print (\"Hello World\")\n"
      ],
      "metadata": {
        "cellView": "form",
        "id": "TOG0N3-vQrmT"
      },
      "execution_count": null,
      "outputs": []
    },
    {
      "cell_type": "code",
      "source": [
        "# @title Calculadora\n",
        "#Exemplo 2\n",
        "numero1 = 10\n",
        "numero2 = 5\n",
        "numero3 = 15\n",
        "soma = numero1 + numero2 + numero3\n",
        "subtracao = numero1 - numero2 - numero3\n",
        "multiplicacao = numero1 * numero2 * numero3\n",
        "divisao = numero1 / numero2 / numero3\n",
        "print(\"Soma:\", soma)\n",
        "print(\"Subtração:\", subtracao)\n",
        "print(\"Multiplicação:\", multiplicacao)\n",
        "print(\"Divisão:\", divisao)"
      ],
      "metadata": {
        "cellView": "form",
        "id": "48kL9b3QVcIE"
      },
      "execution_count": null,
      "outputs": []
    },
    {
      "cell_type": "code",
      "source": [
        "# @title Input\n",
        "#Exemplo 3\n",
        "nome = input(\"Digite seu nome: \")\n",
        "nascimento = input(\"Digite seu nascimento: \")\n",
        "curso = input(\"Digite seu curso: \")\n",
        "print(\"Olá,\", nome + \"!\")\n",
        "print(\"Sua data de nascimento é: \" , nascimento)\n",
        "print(\"O seu curso inscrito é: \" , curso)"
      ],
      "metadata": {
        "cellView": "form",
        "id": "g-G7Ahm1Vj3b"
      },
      "execution_count": null,
      "outputs": []
    },
    {
      "cell_type": "code",
      "source": [
        "# @title If and Else\n",
        "#Exemplo 4\n",
        "numero = int (input(\"Digite o numero: \"))\n",
        "if numero % 2 == 0:\n",
        "    print (\"numero par: \")\n",
        "else:\n",
        "    Print(\"Numero impar: \")"
      ],
      "metadata": {
        "cellView": "form",
        "id": "13v5ph5nVtqV"
      },
      "execution_count": null,
      "outputs": []
    },
    {
      "cell_type": "code",
      "source": [
        "# @title For i IN\n",
        "\n",
        "#Exemplo 5\n",
        "for i in range(1, 11):\n",
        "  print(i)\n"
      ],
      "metadata": {
        "cellView": "form",
        "id": "Rj85J0VlV368"
      },
      "execution_count": null,
      "outputs": []
    }
  ]
}