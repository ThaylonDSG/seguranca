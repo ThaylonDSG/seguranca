{
  "nbformat": 4,
  "nbformat_minor": 0,
  "metadata": {
    "colab": {
      "provenance": [],
      "authorship_tag": "ABX9TyMv4lv4QJ3GOvEE0QUB1B0L",
      "include_colab_link": true
    },
    "kernelspec": {
      "name": "python3",
      "display_name": "Python 3"
    },
    "language_info": {
      "name": "python"
    }
  },
  "cells": [
    {
      "cell_type": "markdown",
      "metadata": {
        "id": "view-in-github",
        "colab_type": "text"
      },
      "source": [
        "<a href=\"https://colab.research.google.com/github/ThaylonDSG/seguranca/blob/main/Cifra_de_c%C3%A9sar.ipynb\" target=\"_parent\"><img src=\"https://colab.research.google.com/assets/colab-badge.svg\" alt=\"Open In Colab\"/></a>"
      ]
    },
    {
      "cell_type": "code",
      "source": [
        "def cifrar_cesar(texto, rotacao):\n",
        "    resultado = []\n",
        "\n",
        "    for char in texto:\n",
        "        if char.isalpha():\n",
        "            # Determine o início e o fim da faixa de caracteres (maiúsculas ou minúsculas)\n",
        "            base = ord('A') if char.isupper() else ord('a')\n",
        "            # Cifra o caractere\n",
        "            novo_char = chr((ord(char) - base + rotacao) % 26 + base)\n",
        "            resultado.append(novo_char)\n",
        "        else:\n",
        "            # Não modifica caracteres não alfabéticos\n",
        "            resultado.append(char)\n",
        "\n",
        "    return ''.join(resultado)\n",
        "\n",
        "def decifrar_cesar(texto, rotacao):\n",
        "    # Para decifrar, apenas invertimos a rotação\n",
        "    return cifrar_cesar(texto, -rotacao)\n",
        "\n",
        "def main():\n",
        "    print(\"Cifra de César\")\n",
        "    texto = input(\"Digite o texto: \")\n",
        "    rotacao = int(input(\"Digite a rotação (número inteiro): \"))\n",
        "\n",
        "    escolha = input(\"Digite 'e' para encriptar ou 'd' para decriptar: \").strip().lower()\n",
        "\n",
        "    if escolha == 'e':\n",
        "        texto_cifrado = cifrar_cesar(texto, rotacao)\n",
        "        print(f\"Texto encriptado: {texto_cifrado}\")\n",
        "    elif escolha == 'd':\n",
        "        texto_decifrado = decifrar_cesar(texto, rotacao)\n",
        "        print(f\"Texto decriptado: {texto_decifrado}\")\n",
        "    else:\n",
        "        print(\"Escolha inválida. Use 'e' para encriptar ou 'd' para decriptar.\")\n",
        "\n",
        "if __name__ == \"__main__\":\n",
        "    main()"
      ],
      "metadata": {
        "colab": {
          "base_uri": "https://localhost:8080/"
        },
        "id": "cY6_3hT7hTqi",
        "outputId": "048a1150-3722-41dc-a2f8-767da70f91a8"
      },
      "execution_count": null,
      "outputs": [
        {
          "output_type": "stream",
          "name": "stdout",
          "text": [
            "Cifra de César\n",
            "Digite o texto: tlshujph\n",
            "Digite a rotação (número inteiro): 7\n",
            "Digite 'e' para encriptar ou 'd' para decriptar: d\n",
            "Texto decriptado: melancia\n"
          ]
        }
      ]
    },
    {
      "cell_type": "markdown",
      "source": [
        "A Cifra de César em Python: Uma Explicação Detalhada\n",
        "A cifra de César é um dos métodos de criptografia mais simples e antigos. Ela funciona deslocando cada letra do alfabeto um número fixo de posições para a frente ou para trás. Por exemplo, com uma chave de 3, a letra 'A' seria substituída por 'D', 'B' por 'E', e assim por diante.\n",
        "\n",
        "Função cifra_cesar:\n",
        "\n",
        "Parâmetros:\n",
        "texto: A mensagem a ser criptografada ou descriptografada.\n",
        "chave: O número de posições para deslocar as letras.\n",
        "modo: Indica se a operação é de criptografia ou descriptografia.\n",
        "Alfabeto: Define o alfabeto a ser utilizado para a cifra.\n",
        "Iteração: Percorre cada letra do texto.\n",
        "Encontrar o índice: Localiza o índice da letra no alfabeto.\n",
        "Cálculo do novo índice:\n",
        "Encriptação: Soma a chave ao índice e aplica o módulo para garantir que o novo índice fique dentro do intervalo do alfabeto.\n",
        "Descriptografia: Subtrai a chave do índice e aplica o módulo.\n",
        "Nova letra: Obtém a nova letra a partir do novo índice no alfabeto.\n",
        "Construção do resultado: Adiciona a nova letra à string de resultado.\n",
        "\n"
      ],
      "metadata": {
        "id": "ZqhVTTOdhgpm"
      }
    }
  ]
}