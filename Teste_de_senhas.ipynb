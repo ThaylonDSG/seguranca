{
  "nbformat": 4,
  "nbformat_minor": 0,
  "metadata": {
    "colab": {
      "provenance": [],
      "authorship_tag": "ABX9TyPy4WMt0ECYdRkwYGirfjhU",
      "include_colab_link": true
    },
    "kernelspec": {
      "name": "python3",
      "display_name": "Python 3"
    },
    "language_info": {
      "name": "python"
    }
  },
  "cells": [
    {
      "cell_type": "markdown",
      "metadata": {
        "id": "view-in-github",
        "colab_type": "text"
      },
      "source": [
        "<a href=\"https://colab.research.google.com/github/ThaylonDSG/seguranca/blob/main/Teste_de_senhas.ipynb\" target=\"_parent\"><img src=\"https://colab.research.google.com/assets/colab-badge.svg\" alt=\"Open In Colab\"/></a>"
      ]
    },
    {
      "cell_type": "code",
      "source": [
        "# @title Testador de senhas\n",
        "import string\n",
        "\n",
        "def verificar_senha(senha):\n",
        "    \"\"\"Verifica a força de uma senha e retorna uma classificação.\n",
        "\n",
        "    Args:\n",
        "        senha: A senha a ser analisada.\n",
        "\n",
        "    Returns:\n",
        "        str: A classificação da senha (fraca, média, forte).\n",
        "    \"\"\"\n",
        "\n",
        "    # Definindo conjuntos de caracteres\n",
        "    letras_maiusculas = string.ascii_uppercase\n",
        "    digitos = string.digits\n",
        "    caracteres_especiais = string.punctuation\n",
        "\n",
        "    # Inicializando contadores\n",
        "    tem_maiuscula = False\n",
        "    tem_digito = False\n",
        "    tem_especial = False\n",
        "\n",
        "    # Verificando cada caractere da senha\n",
        "    for caractere in senha:\n",
        "        if caractere in letras_maiusculas:\n",
        "            tem_maiuscula = True\n",
        "        elif caractere in digitos:\n",
        "            tem_digito = True\n",
        "        elif caractere in caracteres_especiais:\n",
        "            tem_especial = True\n",
        "\n",
        "    # Classificando a senha com os novos critérios\n",
        "    if len(senha) <= 4 or not (tem_maiuscula or tem_digito or tem_especial):\n",
        "        return \"Fraca\"\n",
        "    elif 5 <= len(senha) <= 6 and tem_maiuscula and tem_digito:\n",
        "        return \"Média\"\n",
        "    elif len(senha) >= 8 and tem_maiuscula and tem_digito and tem_especial:\n",
        "        return \"Forte\"\n",
        "    else:\n",
        "        return \"Média\"  # Senhas com mais de 6 e menos de 8 caracteres que não atendem aos outros critérios\n",
        "\n",
        "if __name__ == \"__main__\":\n",
        "    senha = input(\"Digite sua senha: \")\n",
        "    resultado = verificar_senha(senha)\n",
        "    print(f\"A senha '{senha}' é considerada: {resultado}\")"
      ],
      "metadata": {
        "colab": {
          "base_uri": "https://localhost:8080/"
        },
        "id": "wLwHZ2hvcL-Z",
        "outputId": "8c0832b6-c3fb-44b9-a529-7ea324879e7e"
      },
      "execution_count": null,
      "outputs": [
        {
          "output_type": "stream",
          "name": "stdout",
          "text": [
            "Digite sua senha: dafdasgfdgadgd\n",
            "A senha 'dafdasgfdgadgd' é considerada: Fraca\n"
          ]
        }
      ]
    }
  ]
}